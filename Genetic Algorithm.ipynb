{
 "cells": [
  {
   "attachments": {},
   "cell_type": "markdown",
   "id": "95f574f3",
   "metadata": {},
   "source": [
    "# Genetic Algorithms\n",
    "\n",
    "Genetic algorithms are a type of search algorithm. For more information about Genetic Algorithms please vist the following [link](https://www.mathworks.com/help/gads/what-is-the-genetic-algorithm.html).\n",
    "\n",
    "In this notebook I will explore the properties and behaviors of genetic algorithms. Specifically, I want to look at how different implementations and hyper parameters effect performance. As an educational exercise, I have created my own library to power these experiments.\n"
   ]
  },
  {
   "cell_type": "code",
   "execution_count": 1,
   "id": "8d69834e",
   "metadata": {},
   "outputs": [
    {
     "name": "stdout",
     "output_type": "stream",
     "text": [
      "Thank you for using jLearn v0.0.1\n",
      "Contribute to jLearn at https://github.com/lavahoppers/jlearn\n"
     ]
    }
   ],
   "source": [
    "import jlearn as jl\n",
    "from jlearn import *\n",
    "import time, random, math, multiprocessing\n",
    "import numpy as np\n",
    "from functools import partial\n",
    "import matplotlib.pyplot as plt"
   ]
  },
  {
   "attachments": {},
   "cell_type": "markdown",
   "id": "a6866718",
   "metadata": {},
   "source": [
    "## Visualizations\n",
    "\n",
    "The fitness function I will make can be visualized. If you would like to see it load the modules below. If you are on mac this will not work."
   ]
  },
  {
   "cell_type": "code",
   "execution_count": 2,
   "id": "56e7ecfb",
   "metadata": {},
   "outputs": [
    {
     "ename": "ModuleNotFoundError",
     "evalue": "No module named 'pygame'",
     "output_type": "error",
     "traceback": [
      "\u001b[0;31m---------------------------------------------------------------------------\u001b[0m",
      "\u001b[0;31mModuleNotFoundError\u001b[0m                       Traceback (most recent call last)",
      "Cell \u001b[0;32mIn [2], line 1\u001b[0m\n\u001b[0;32m----> 1\u001b[0m \u001b[39mimport\u001b[39;00m \u001b[39mpygame\u001b[39;00m\n\u001b[1;32m      2\u001b[0m \u001b[39mimport\u001b[39;00m \u001b[39mpygame\u001b[39;00m\u001b[39m.\u001b[39;00m\u001b[39mgfxdraw\u001b[39;00m\n",
      "\u001b[0;31mModuleNotFoundError\u001b[0m: No module named 'pygame'"
     ]
    }
   ],
   "source": [
    "import pygame\n",
    "import pygame.gfxdraw"
   ]
  },
  {
   "attachments": {},
   "cell_type": "markdown",
   "id": "cf03e60a",
   "metadata": {},
   "source": [
    "## Fitness Function\n",
    "\n",
    "The fitness function we are using is a small simulation. On an infinite plane, there is one food and one agent. The agent's behavior is controlled by the chromosome. The chromosome is broken into small pieces and used to build a neural network. The network is given the agents position, agent's velocity and the position of the food. The goal of the agent is to eat the food as many times as it can in a certain timeframe. Each time it eats the food, a new food will be spawned in a set area.\n",
    "\n",
    "We give each agent 1 point for eating a food. In the final position, after the last tick, we will award the agent a partial point based on how close they are to their food. \n",
    "\n",
    "To calculate the fitness we do $\\text{score}+e^{\\text{(-distance)}}$ to avoid problems with negatives. Where the distance is just euclidian."
   ]
  },
  {
   "cell_type": "code",
   "execution_count": 3,
   "id": "cc420974",
   "metadata": {},
   "outputs": [],
   "source": [
    "# number of genes in a chromosome\n",
    "d = 92\n",
    "\n",
    "# how long the simulation runs for\n",
    "ticks=200\n",
    "\n",
    "# drag coeficient for the agent\n",
    "C=.1\n",
    "\n",
    "# for visualizing the simulation\n",
    "screen_width = 500 # pixels\n",
    "tick_rate = 20 # ticks per second\n",
    "\n",
    "def spawn_food():\n",
    "    \"Get the coordinates to a new food somewhere on the screen\"\n",
    "    return np.random.uniform(low=-.8, high=.8, size=(2,1)) * screen_width/2\n",
    "\n",
    "def fitness(x, visuals=False, samples=1):\n",
    "    \"Calculate the fitness of a chromosome\"\n",
    "\n",
    "    # our fitness function is aproximate... more samples increases acuracy\n",
    "    if samples > 1:\n",
    "        return sum([fitness(x, False, 1) for _ in range(samples)])/samples\n",
    "       \n",
    "    # init the food\n",
    "    food = spawn_food()\n",
    "    \n",
    "    # init the agent\n",
    "    score = 0\n",
    "    W2, W1, b2, b1 = jl.util.multi_reshape(x, [(2,10), (10,6), (2,1), (10,1)])\n",
    "    pos = np.zeros(shape=(2,1))\n",
    "    vel = np.zeros(shape=(2,1))\n",
    "\n",
    "    # init the visuals\n",
    "    if visuals:\n",
    "        pygame.init()\n",
    "        screen = pygame.display.set_mode((screen_width, screen_width))\n",
    "        font = pygame.font.Font('freesansbold.ttf', 32)\n",
    "        black = (0, 0, 0)\n",
    "        red = (255, 0, 0)\n",
    "        green = (0, 255, 0)\n",
    "        blue = (0, 0, 255)\n",
    "        \n",
    "    # main simulation loop\n",
    "    for tick in range(ticks):\n",
    "        \n",
    "        # get the time that this tick started\n",
    "        if visuals:\n",
    "            start_time = time.time()\n",
    "\n",
    "        # drag the agent (friction)\n",
    "        vel = vel - C * vel\n",
    "\n",
    "        # calculate the agent's move\n",
    "        x1 = np.vstack((pos, vel, food))\n",
    "        x2 = jl.func.sigmoid(W1@x1+b1)\n",
    "        x3 = jl.func.sigmoid(W2@x2+b2) * 2 - 1\n",
    "        acc = x3\n",
    "\n",
    "        # accelerate and move\n",
    "        vel += acc\n",
    "        pos += vel\n",
    "        \n",
    "        # calc the distance squared from the food\n",
    "        diff = pos-food\n",
    "        sqr_dist = diff.T@diff\n",
    "        \n",
    "        # check if the food was eaten\n",
    "        if sqr_dist < 100:\n",
    "            score += 1\n",
    "            food = spawn_food()\n",
    "            \n",
    "        if visuals:\n",
    "            # clear screen \n",
    "            screen.fill(black)\n",
    "            \n",
    "            # draw the agent\n",
    "            r = pygame.Rect(pos[0][0]-5+screen_width/2,pos[1][0]-5+screen_width/2,10,10)\n",
    "            pygame.gfxdraw.rectangle(screen, r, (255, 0, 0))\n",
    "\n",
    "            # draw the food\n",
    "            pygame.gfxdraw.circle(screen, int(food[0][0]+screen_width/2), int(food[1][0]+screen_width/2), 3, (255, 255, 0))\n",
    "            \n",
    "            # draw the score\n",
    "            # final score if we stopped at this tick\n",
    "            dist = math.sqrt(sqr_dist)\n",
    "            _score = round(score+np.exp(-dist), 2)\n",
    "            text = font.render(str(_score), False, green, black)\n",
    "            textRect = text.get_rect()\n",
    "            screen.blit(text, textRect)\n",
    "\n",
    "            # update the display\n",
    "            pygame.display.flip()\n",
    "            \n",
    "            # pressing any key kills this function\n",
    "            for event in pygame.event.get():\n",
    "                 if event.type in [pygame.QUIT, pygame.KEYDOWN]:\n",
    "                        pygame.quit()\n",
    "                        return None\n",
    "            \n",
    "            # lock the tick rate (frame rate)\n",
    "            elapsed = start_time - time.time()\n",
    "            if elapsed < 1/tick_rate:\n",
    "                time.sleep(1/tick_rate-elapsed)\n",
    "    \n",
    "    # get the final distance to the food\n",
    "    dist = math.sqrt(sqr_dist)\n",
    "    # magic number 1000 just to smooth out the curve\n",
    "    fitness_score = score + np.exp(-dist/1000)\n",
    "    \n",
    "    if visuals:            \n",
    "        pygame.quit()\n",
    "    \n",
    "    return fitness_score"
   ]
  },
  {
   "attachments": {},
   "cell_type": "markdown",
   "id": "a9922d4e",
   "metadata": {},
   "source": [
    "## Running the Genetic Algorithm"
   ]
  },
  {
   "attachments": {},
   "cell_type": "markdown",
   "id": "d4a11fb1",
   "metadata": {},
   "source": [
    "### Setup (Choosing Hyper-parameters)\n",
    "\n",
    "We choose how large the population at each step should be. We also choose the type of selection, mutation, and cross-over functions we will use to update the population and the coresponding hyper-parameters."
   ]
  },
  {
   "cell_type": "code",
   "execution_count": 6,
   "id": "b23b5b15",
   "metadata": {},
   "outputs": [],
   "source": [
    "# population size\n",
    "n = 100\n",
    "\n",
    "# sub-routines \n",
    "Fitness = partial(fitness, samples=5)\n",
    "Selection = partial(jl.genetics.select, k=2)\n",
    "Crossover = jl.genetics.crossover\n",
    "Mutation = partial(jl.genetics.mutate, rate=0.01)\n",
    "\n",
    "# elite to maintain from one population to the next\n",
    "elite = 10\n",
    "\n",
    "# generations to train for\n",
    "gens = 50"
   ]
  },
  {
   "attachments": {},
   "cell_type": "markdown",
   "id": "34087b06",
   "metadata": {},
   "source": [
    "### Training\n",
    "\n",
    "Below we loop the jlearn.genetics.step function which will create the new generations. "
   ]
  },
  {
   "cell_type": "code",
   "execution_count": 7,
   "id": "1a6857da",
   "metadata": {},
   "outputs": [
    {
     "name": "stdout",
     "output_type": "stream",
     "text": [
      "gen:      0 Top 5%:   0.79\n",
      "gen:      1 Top 5%:   0.91\n",
      "gen:      2 Top 5%:   0.91\n",
      "gen:      3 Top 5%:   1.01\n",
      "gen:      4 Top 5%:   1.00\n",
      "gen:      5 Top 5%:   0.92\n",
      "gen:      6 Top 5%:   0.88\n",
      "gen:      7 Top 5%:   0.88\n",
      "gen:      8 Top 5%:   1.01\n",
      "gen:      9 Top 5%:   0.95\n",
      "gen:     10 Top 5%:   1.08\n",
      "gen:     11 Top 5%:   0.99\n",
      "gen:     12 Top 5%:   1.05\n",
      "gen:     13 Top 5%:   1.11\n",
      "gen:     14 Top 5%:   1.07\n",
      "gen:     15 Top 5%:   1.23\n",
      "gen:     16 Top 5%:   1.23\n",
      "gen:     17 Top 5%:   1.24\n",
      "gen:     18 Top 5%:   1.31\n",
      "gen:     19 Top 5%:   1.40\n",
      "gen:     20 Top 5%:   1.51\n",
      "gen:     21 Top 5%:   1.48\n",
      "gen:     22 Top 5%:   1.56\n",
      "gen:     23 Top 5%:   1.54\n",
      "gen:     24 Top 5%:   1.65\n",
      "gen:     25 Top 5%:   1.57\n",
      "gen:     26 Top 5%:   1.70\n",
      "gen:     27 Top 5%:   1.50\n",
      "gen:     28 Top 5%:   1.50\n",
      "gen:     29 Top 5%:   1.67\n",
      "gen:     30 Top 5%:   1.53\n",
      "gen:     31 Top 5%:   1.53\n",
      "gen:     32 Top 5%:   1.62\n",
      "gen:     33 Top 5%:   1.52\n",
      "gen:     34 Top 5%:   1.52\n",
      "gen:     35 Top 5%:   1.53\n",
      "gen:     36 Top 5%:   1.52\n",
      "gen:     37 Top 5%:   1.71\n",
      "gen:     38 Top 5%:   1.91\n",
      "gen:     39 Top 5%:   1.71\n",
      "gen:     40 Top 5%:   1.74\n",
      "gen:     41 Top 5%:   1.74\n",
      "gen:     42 Top 5%:   1.78\n",
      "gen:     43 Top 5%:   2.16\n",
      "gen:     44 Top 5%:   1.75\n",
      "gen:     45 Top 5%:   1.73\n",
      "gen:     46 Top 5%:   1.94\n",
      "gen:     47 Top 5%:   1.93\n",
      "gen:     48 Top 5%:   1.95\n",
      "gen:     49 Top 5%:   1.97\n"
     ]
    }
   ],
   "source": [
    "# init the population\n",
    "pop = [np.random.normal(size=(d,)) for _ in range(n)]\n",
    "\n",
    "# track fitness statistics\n",
    "mins = [None] * gens\n",
    "avgs = [None] * gens\n",
    "maxs = [None] * gens\n",
    "p5s = [None] * gens\n",
    "p95s = [None] * gens\n",
    "\n",
    "for gen in range(gens):\n",
    "\n",
    "    # get the next generation\n",
    "    new_pop, scores = jl.genetics.step(pop, Fitness, Selection, Crossover, \n",
    "    Mutation, n_elite = elite)\n",
    "    \n",
    "    # get the stats for this generation\n",
    "    p5s[gen] = np.percentile(scores, 5)\n",
    "    p95s[gen] = np.percentile(scores, 95)\n",
    "    mins[gen] = min(scores)\n",
    "    maxs[gen] = max(scores)\n",
    "    avgs[gen] = sum(scores)/n\n",
    "            \n",
    "    # print some statistics\n",
    "    print(f'gen:{gen:7} Top 5%:{p95s[gen]:7.2f}')\n",
    "    \n",
    "    # update the population\n",
    "    pop = new_pop"
   ]
  },
  {
   "cell_type": "code",
   "execution_count": 8,
   "id": "227f27fd",
   "metadata": {},
   "outputs": [
    {
     "data": {
      "image/png": "[encoded data removed]",
      "text/plain": [
       "<Figure size 800x400 with 1 Axes>"
      ]
     },
     "metadata": {},
     "output_type": "display_data"
    }
   ],
   "source": [
    "plt.rcParams[\"figure.figsize\"] = (8,4)\n",
    "\n",
    "plt.grid(alpha=.3)\n",
    "# plt.axhline(0,c='0', alpha=.25)\n",
    "plt.axvline(0,c=(0,0,0,.25))\n",
    "\n",
    "plt.plot(maxs, 'r.', alpha=.25, label='Maximum')\n",
    "plt.plot(p95s, 'r', alpha=.5, label='95th Percentile')\n",
    "plt.plot(avgs,  'r', alpha=1, label='Average')\n",
    "plt.plot(p5s, 'r', alpha=.5, label='5th Percentile')\n",
    "plt.plot(mins, 'r.', alpha=.25, label='Minimum')\n",
    "\n",
    "plt.title(\"Fitness score statistics by generation\")\n",
    "plt.xlabel(\"Generation number\")\n",
    "plt.ylabel(\"Fitness score\")\n",
    "\n",
    "plt.legend()\n",
    "plt.ylim([0, 10])\n",
    "\n",
    "plt.show()"
   ]
  },
  {
   "cell_type": "code",
   "execution_count": null,
   "id": "9960bfc4",
   "metadata": {},
   "outputs": [],
   "source": []
  }
 ],
 "metadata": {
  "kernelspec": {
   "display_name": "Python 3",
   "language": "python",
   "name": "python3"
  },
  "language_info": {
   "codemirror_mode": {
    "name": "ipython",
    "version": 3
   },
   "file_extension": ".py",
   "mimetype": "text/x-python",
   "name": "python",
   "nbconvert_exporter": "python",
   "pygments_lexer": "ipython3",
   "version": "3.11.0"
  },
  "vscode": {
   "interpreter": {
    "hash": "aee8b7b246df8f9039afb4144a1f6fd8d2ca17a180786b69acc140d282b71a49"
   }
  }
 },
 "nbformat": 4,
 "nbformat_minor": 5
}
